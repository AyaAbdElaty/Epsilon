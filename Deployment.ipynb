{
 "cells": [
  {
   "cell_type": "code",
   "execution_count": 2,
   "id": "03accfbf",
   "metadata": {},
   "outputs": [],
   "source": [
    "import streamlit as st"
   ]
  },
  {
   "cell_type": "code",
   "execution_count": 3,
   "id": "c420b66a",
   "metadata": {},
   "outputs": [
    {
     "name": "stdout",
     "output_type": "stream",
     "text": [
      "Overwriting House_Pricing_Project.py\n"
     ]
    }
   ],
   "source": [
    "%%writefile House_Pricing_Project.py\n",
    "\n",
    "import pandas as pd\n",
    "import plotly.express as px\n",
    "import streamlit as st\n",
    "import seaborn as sns\n",
    "\n",
    "st.set_page_config(layout=\"wide\", page_title=\"House Pricing\")\n",
    "html_title = \"\"\"<h1 style=\"color:white;text-align:center;\"> House Pricing </h1>\"\"\"\n",
    "\n",
    "st.markdown(html_title, unsafe_allow_html=True)\n",
    "\n",
    "col1, col2, col3 = st.columns([1,3,1])\n",
    "with col2:\n",
    "    st.image(\"https://img.freepik.com/free-vector/hand-drawn-rising-house-prices-illustration_23-2150801646.jpg?semt=ais_items_boosted&w=740\")\n",
    "\n",
    "df = pd.read_csv(\"House_Pricing_Cleaned\", index_col=0)\n",
    "\n",
    "\n",
    "st.dataframe(df.head(10))\n",
    "\n",
    "page = st.sidebar.radio('Pages', ['Univariate Analysis','Bivariate Analysis', 'MultiVariate Analysis'])\n",
    "   \n",
    "\n",
    "if page == 'Univariate Analysis':\n",
    "\n",
    "    st.title('Univariate Analysis')\n",
    "\n",
    "    for col in df.columns:\n",
    "\n",
    "        st.plotly_chart(px.histogram(data_frame= df, x= col, title= col))\n",
    "elif page == 'Bivariate Analysis':\n",
    "    st.title(\"Bivariate analysis\")\n",
    "    st.header(\"The average price for each location\")\n",
    "\n",
    "    df1 = df.groupby(\"location\")[\"Amount(in rupees)\"].mean().sort_values(ascending= False)\n",
    "    st.plotly_chart(px.bar(data_frame=df1, color_discrete_sequence=[\"red\"] ))\n",
    "\n",
    "    st.header(\"The effect of Furnishing on Price\")\n",
    "    df2 = df.groupby(\"Furnishing\")[\"Amount(in rupees)\"].median().sort_values()\n",
    "    st.plotly_chart(px.bar(df2, color_discrete_sequence=[\"red\"]))\n",
    "\n",
    "    st.header(\"The relation between ownership and Price\")\n",
    "    df3 = df.groupby(\"Ownership\")[\"Amount(in rupees)\"].count().sort_values()\n",
    "    st.plotly_chart(px.bar(df3, color_discrete_sequence= [\"red\"]))\n",
    "\n",
    "    st.header(\"The relation between Transaction and Price\")\n",
    "    df4 = df.groupby(\"Transaction\")[\"Amount(in rupees)\"].median().sort_values()\n",
    "    st.plotly_chart(px.bar(df4,color_discrete_sequence=[\"red\"]))\n",
    "\n",
    "    st.header(\"The relation between facing and price\")\n",
    "    df5 = df.groupby(\"facing\")[\"Amount(in rupees)\"].median().sort_values()\n",
    "    st.plotly_chart(px.bar(df5, color_discrete_sequence=[\"red\"]))\n",
    "\n",
    "    st.header(\"\")\n",
    "    \n",
    "    # st.header(\"The effect of area on Price\")\n",
    "    # st.plotly_chart(sns.lineplot(x = \"Carpet Area\", y = \"Amount(in rupees)\", data = df))\n",
    "    # st.header(\"The effect of no. of Bathrooms on price\")\n",
    "    # st.plotly_chart(sns.lineplot(x = \"Balcony\", y = \"Amount(in rupees)\", data = df))\n",
    "    \n",
    "\n",
    "\n",
    "elif page == 'MultiVariate Analysis':\n",
    "\n",
    "    Price_of_area_of_eachLocation = (df.groupby([\"Carpet Area\", 'location'])['Amount(in rupees)'].mean().round(4) * 100).reset_index()\n",
    "    st.plotly_chart(px.bar(data_frame= Price_of_area_of_eachLocation, x= 'Carpet Area', y= 'Amount(in rupees)', text_auto= True, color= 'location',\n",
    "        title= '',\n",
    "        labels= {'actual_productivity' : 'Average Productivity'}, barmode= 'group',\n",
    "        color_discrete_sequence= ['red']))\n"
   ]
  },
  {
   "cell_type": "code",
   "execution_count": 4,
   "id": "55c6bd52",
   "metadata": {},
   "outputs": [
    {
     "name": "stdout",
     "output_type": "stream",
     "text": [
      "^C\n"
     ]
    }
   ],
   "source": [
    "! streamlit run House_Pricing_Project.py"
   ]
  },
  {
   "cell_type": "code",
   "execution_count": null,
   "id": "ec0d8557",
   "metadata": {},
   "outputs": [],
   "source": [
    "import pipreqs\n",
    "!pip reqs"
   ]
  }
 ],
 "metadata": {
  "kernelspec": {
   "display_name": "Python 3",
   "language": "python",
   "name": "python3"
  },
  "language_info": {
   "codemirror_mode": {
    "name": "ipython",
    "version": 3
   },
   "file_extension": ".py",
   "mimetype": "text/x-python",
   "name": "python",
   "nbconvert_exporter": "python",
   "pygments_lexer": "ipython3",
   "version": "3.13.1"
  }
 },
 "nbformat": 4,
 "nbformat_minor": 5
}
